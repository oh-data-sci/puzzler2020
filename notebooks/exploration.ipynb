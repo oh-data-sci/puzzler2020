{
 "cells": [
  {
   "cell_type": "markdown",
   "metadata": {},
   "source": [
    "# which words are expressible on a graph?\n",
    "given the following graph of allowed pairs of characters:\n",
    "\n",
    "![connected graph of allowed pairs of characters](../img/puzzler.png)\n",
    "\n",
    "write a program that can read a dictionary file (e.g. `/usr/share/dict/words`) and output only the words that are expressible on this graph. \n",
    "characters do not connect to themselves, while the letters and connections can be reused. \n",
    "find and report the longest dictionary word expressed this way.\n",
    "\n",
    "## graph details\n",
    "the graph above has the following 13 nodes and 72 (directed) vertices:\n",
    "\n",
    "```\n",
    "nodes=[\n",
    "    'b', 'r', 'c', 'h', 's', \n",
    "    'y', 'l', 'e', 'g', 'w', \n",
    "    'n', 't', 'o']\n",
    "vertices = [\n",
    "    \"br\", \"bl\", \"bo\", \"bt\", \"by\", \n",
    "    \"rc\", \"re\", \"ro\", \"rl\", \"rb\",\n",
    "    \"ch\", \"cg\", \"co\", \"ce\", \"cr\",\n",
    "    \"hs\", \"hw\", \"ho\", \"hg\", \"hc\",\n",
    "    \"sy\", \"sn\", \"so\", \"sw\", \"sh\",\n",
    "    \"yb\", \"yt\", \"yo\", \"yn\", \"ys\",\n",
    "    \"tb\", \"tl\", \"to\", \"tn\", \"ty\",\n",
    "    \"lr\", \"le\", \"lo\", \"lt\", \"lb\",\n",
    "    \"er\", \"ec\", \"eg\", \"eo\", \"el\",\n",
    "    \"ge\", \"gc\", \"gh\", \"gw\", \"go\",\n",
    "    \"wo\", \"wg\", \"wh\", \"ws\", \"wn\",\n",
    "    \"nt\", \"no\", \"nw\", \"ns\", \"ny\",\n",
    "    \"ob\", \"or\", \"oc\", \"oh\", \"os\",\n",
    "    \"oy\", \"ol\", \"oe\", \"og\", \"ow\",\n",
    "    \"on\", \"ot\"\n",
    "]\n",
    "```\n"
   ]
  },
  {
   "cell_type": "code",
   "execution_count": 6,
   "metadata": {},
   "outputs": [],
   "source": [
    "# the graph above can be expressed as a dict, wherein\n",
    "# given a letter key, the corresponding value lists \n",
    "# the allowed letters which may follow it:\n",
    "next_letter_dict = {\n",
    "    'b': ['r','l','o','t','y'],\n",
    "    'r': ['c','e','o','l','b'],\n",
    "    'c': ['h','g','o','e','r'],\n",
    "    'h': ['s','w','o','g','c'],\n",
    "    's': ['y','n','o','w','h'],\n",
    "    'y': ['b','t','o','n','s'],\n",
    "    't': ['b','l','o','n','y'],\n",
    "    'l': ['r','e','o','t','b'],\n",
    "    'e': ['r','c','g','o','l'],\n",
    "    'g': ['e','c','h','w','o'],\n",
    "    'w': ['o','g','h','s','n'],\n",
    "    'n': ['t','o','w','s','y'],\n",
    "    'o': ['b','r','c','h','s', \n",
    "          'y','l','e','g','w', \n",
    "          'n','t'],\n",
    "}\n",
    "\n",
    "# nodes\n",
    "allowed_tokens = set(next_letter_dict.keys())"
   ]
  },
  {
   "cell_type": "code",
   "execution_count": 7,
   "metadata": {},
   "outputs": [
    {
     "name": "stdout",
     "output_type": "stream",
     "text": [
      "input is wonoss\n",
      "which contains {'s', 'n', 'w', 'o'}\n",
      "all letters allowed, searching for path\n",
      "testing one letter pair at a time\n",
      "the pair s -> s is not allowed\n",
      ">>>>>>the word wonoss is impossible\n"
     ]
    }
   ],
   "source": [
    "# single word tests:\n",
    "# word = 'wrongness'\n",
    "# word = 'wongness'\n",
    "word = 'wonoss'\n",
    "\n",
    "tokens = set(word)\n",
    "word_length = len(word)\n",
    "print('input is', word)\n",
    "print('which contains', tokens)\n",
    "if tokens.issubset(allowed_tokens):\n",
    "    print('all letters allowed, searching for path')\n",
    "    if len(word) > 1:\n",
    "        print('testing one letter pair at a time')\n",
    "        allowed = True\n",
    "        first_letter = word[0]\n",
    "        for second_letter in word[1:]:\n",
    "            if second_letter not in next_letter_dict[first_letter]:\n",
    "                allowed = False\n",
    "                print('the pair', first_letter, '->', second_letter, 'is not allowed')\n",
    "                break\n",
    "            first_letter = second_letter\n",
    "    else:\n",
    "        allowed = True\n",
    "        print('word', word, 'is allowed')\n",
    "else:\n",
    "    allowed = False\n",
    "    print('word', word, 'contains characters not included in graph')\n",
    "    print('missing letters:', tokens - allowed_tokens)\n",
    "if allowed:\n",
    "    print('>>>>>>the word', word, 'is allowed')\n",
    "else:\n",
    "    print('>>>>>>the word', word, 'is impossible')"
   ]
  },
  {
   "cell_type": "code",
   "execution_count": 34,
   "metadata": {},
   "outputs": [],
   "source": [
    "# function wrap up\n",
    "def check_if_expressible(word, next_letter_dict=next_letter_dict, allowed_tokens=allowed_tokens):\n",
    "    \"\"\"\n",
    "    given a string and a graph of allowed token pairings, this function checks whether the string can \n",
    "    be formed by traversing the graph of allowed pairs. \n",
    "    input: \n",
    "        word, a character string.\n",
    "        next_letter_dict, a dict whose keys are all the allowed tokens, the values are each key's (token's) allowed pairings.\n",
    "        allowed_tokens, a set of tokens, equal to the keys of the next letter dict.\n",
    "    output:\n",
    "        allowed, boolean. true if word can be generated by traversing the graph.\n",
    "    \"\"\"\n",
    "    if not set(word).issubset(allowed_tokens):\n",
    "        # input word contains tokens not found in graph of allowed pairs.\n",
    "        allowed = False\n",
    "#         print('word', word, 'contains characters not included in graph')\n",
    "#         print('missing letters:', set(word) - allowed_tokens)\n",
    "    else:\n",
    "        if len(word) > 1:\n",
    "            # need to check pairs of tokens\n",
    "            allowed =True\n",
    "            first_letter = word[0]\n",
    "            for second_letter in word[1:]:\n",
    "#                 print(word, 'checking the pairs', first_letter, second_letter)\n",
    "                if second_letter not in next_letter_dict[first_letter]:\n",
    "                    allowed = False\n",
    "#                     print('the pair', first_letter, '->', second_letter, 'is not allowed')\n",
    "                    break\n",
    "                first_letter = second_letter\n",
    "        else:\n",
    "            allowed = True\n",
    "#     if allowed:\n",
    "#         print('>>>>>>the word', word, 'is allowed')\n",
    "#     else:\n",
    "#         print('>>>>>>the word', word, 'is impossible')\n",
    "    return allowed\n",
    "\n",
    "\n",
    "# def read_word_list(filepath):\n",
    "#     word_list = []\n",
    "#     with open(filepath, 'r') as file:\n",
    "#         for line in file:\n",
    "#             word_list.append(file.readline().strip())\n",
    "#     return word_list\n",
    "\n",
    "def read_word_list(filepath):\n",
    "    with open(filepath, 'r') as file:\n",
    "        word_list= file.readlines()\n",
    "    return [word.strip() for word in word_list]\n",
    "\n",
    "\n",
    "\n",
    "def scan_words(word_list):\n",
    "    return [\n",
    "        word \n",
    "        for word in word_list\n",
    "        if check_if_expressible(word)\n",
    "    ]\n",
    "            \n",
    "    "
   ]
  },
  {
   "cell_type": "code",
   "execution_count": 35,
   "metadata": {},
   "outputs": [
    {
     "data": {
      "text/plain": [
       "False"
      ]
     },
     "execution_count": 35,
     "metadata": {},
     "output_type": "execute_result"
    }
   ],
   "source": [
    "check_if_expressible('wongness')"
   ]
  },
  {
   "cell_type": "code",
   "execution_count": 42,
   "metadata": {},
   "outputs": [
    {
     "name": "stdout",
     "output_type": "stream",
     "text": [
      "CPU times: user 2 µs, sys: 1e+03 ns, total: 3 µs\n",
      "Wall time: 5.01 µs\n",
      "word list `words` contains 235886 words, e.g. ['otoneuralgia', 'servitress', 'unfidgeting', 'ranged', 'Nematognathi']\n",
      "of which 404 can be formed using graph\n",
      "of which 36 are long\n",
      "for example: ['geologer', 'gonyocele', 'torotoro', 'reconsole']\n",
      "and the longest word found was gonyocele ( 9 letters )\n"
     ]
    }
   ],
   "source": [
    "%time\n",
    "import random\n",
    "words = read_word_list('../data/words.txt')\n",
    "print('word list `words` contains', len(words), 'words, e.g.', random.sample(words, 5))\n",
    "allowed_words = scan_words(words)\n",
    "print('of which', len(allowed_words), 'can be formed using graph')\n",
    "long_allowed = [word for word in allowed_words if len(word)>6]\n",
    "print('of which', len(long_allowed), 'are long')\n",
    "print('for example:', random.sample(long_allowed, 4))\n",
    "max_length = 5\n",
    "for word in long_allowed:\n",
    "    word_length = len(word)\n",
    "    if word_length > max_length:\n",
    "        longest_word = word\n",
    "        max_length = word_length\n",
    "print('and the longest word found was', longest_word, '(',  max_length, 'letters )')"
   ]
  },
  {
   "cell_type": "code",
   "execution_count": null,
   "metadata": {},
   "outputs": [],
   "source": []
  },
  {
   "cell_type": "code",
   "execution_count": 41,
   "metadata": {},
   "outputs": [
    {
     "data": {
      "text/plain": [
       "['gonyocele', 'horologer', 'reconsole', 'snowshoer']"
      ]
     },
     "execution_count": 41,
     "metadata": {},
     "output_type": "execute_result"
    }
   ],
   "source": [
    "# allowed_words\n",
    "long_allowed"
   ]
  },
  {
   "cell_type": "code",
   "execution_count": null,
   "metadata": {},
   "outputs": [],
   "source": []
  }
 ],
 "metadata": {
  "kernelspec": {
   "display_name": "Python 3",
   "language": "python",
   "name": "python3"
  },
  "language_info": {
   "codemirror_mode": {
    "name": "ipython",
    "version": 3
   },
   "file_extension": ".py",
   "mimetype": "text/x-python",
   "name": "python",
   "nbconvert_exporter": "python",
   "pygments_lexer": "ipython3",
   "version": "3.9.1"
  }
 },
 "nbformat": 4,
 "nbformat_minor": 4
}
